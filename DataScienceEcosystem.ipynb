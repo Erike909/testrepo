{
 "cells": [
  {
   "cell_type": "markdown",
   "id": "3a1f2222",
   "metadata": {},
   "source": [
    "# Data Science Tools and Ecosystem"
   ]
  },
  {
   "cell_type": "markdown",
   "id": "4b6e723c",
   "metadata": {},
   "source": [
    "# In this notebook, Data Science Tools and Ecosystem are summarized."
   ]
  },
  {
   "cell_type": "markdown",
   "id": "e91b6795",
   "metadata": {},
   "source": [
    "# Some of the popular languages that Data Scientists use are:\n",
    "## 1. Python\n",
    "## 2. R\n",
    "## 3. SQL\n",
    "## 4. Java"
   ]
  },
  {
   "cell_type": "markdown",
   "id": "e6a0596d",
   "metadata": {},
   "source": [
    "**Objectives**\n",
    "- List popular languagens for Data Science\n",
    "- Some of the commonly used libraries used by Data Scientists\n",
    "- Github\n",
    "- Rstudio"
   ]
  },
  {
   "cell_type": "markdown",
   "id": "370e3b61",
   "metadata": {},
   "source": [
    "# Some of the commonly used libraries used by Data Scientists include:\n",
    "## 1. Numpy\n",
    "## 2. Pandas\n",
    "## 3. Matplotlib\n",
    "## 4. Seaborn\n",
    "## 5. ggplot\n",
    "## 6. caret\n",
    "## 7. tensor-flow\n"
   ]
  },
  {
   "cell_type": "markdown",
   "id": "61346b3a",
   "metadata": {},
   "source": [
    " | Data Science Tools |\n",
    " ----------------------   \n",
    " | Github |\n",
    " | Jupyter notebook |\n",
    " | Rstudio |"
   ]
  },
  {
   "cell_type": "markdown",
   "id": "3956f3c8",
   "metadata": {},
   "source": [
    "### Below are a few examples of evaluating arithmetic expressions in Python\n",
    "### 1 + 2 + 3 + 5 + 6\n",
    "### 3^2 + 4^2 \n",
    "### (1+0.01)^2"
   ]
  },
  {
   "cell_type": "code",
   "execution_count": 3,
   "id": "119f9d62",
   "metadata": {},
   "outputs": [
    {
     "data": {
      "text/plain": [
       "17"
      ]
     },
     "execution_count": 3,
     "metadata": {},
     "output_type": "execute_result"
    }
   ],
   "source": [
    "# This a simple arithmetic expression to multiply then add integers\n",
    "(3*4)+5"
   ]
  },
  {
   "cell_type": "code",
   "execution_count": 6,
   "id": "99c990f5",
   "metadata": {},
   "outputs": [
    {
     "data": {
      "text/plain": [
       "3.3333333333333335"
      ]
     },
     "execution_count": 6,
     "metadata": {},
     "output_type": "execute_result"
    }
   ],
   "source": [
    "# This will convert 200 minutes to hours diving by 60\n",
    "200/60"
   ]
  },
  {
   "cell_type": "markdown",
   "id": "31743428",
   "metadata": {},
   "source": [
    "## Author:\n",
    "   Antonio Erike Pinheiro Lima\n"
   ]
  }
 ],
 "metadata": {
  "kernelspec": {
   "display_name": "Python 3 (ipykernel)",
   "language": "python",
   "name": "python3"
  },
  "language_info": {
   "codemirror_mode": {
    "name": "ipython",
    "version": 3
   },
   "file_extension": ".py",
   "mimetype": "text/x-python",
   "name": "python",
   "nbconvert_exporter": "python",
   "pygments_lexer": "ipython3",
   "version": "3.11.5"
  }
 },
 "nbformat": 4,
 "nbformat_minor": 5
}
